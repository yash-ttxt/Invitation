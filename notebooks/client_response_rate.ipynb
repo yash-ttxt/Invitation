{
 "cells": [
  {
   "cell_type": "code",
   "execution_count": 1,
   "metadata": {},
   "outputs": [],
   "source": [
    "import pandas as pd\n",
    "import numpy as np"
   ]
  },
  {
   "cell_type": "code",
   "execution_count": 2,
   "metadata": {},
   "outputs": [
    {
     "data": {
      "text/plain": [
       "Index(['action_id', 'action_type_label', 'action_subcategory_label',\n",
       "       'action_start_date', 'action_year', 'action_end_date',\n",
       "       'action_collection_year', 'action_collection', 'action_universe',\n",
       "       'action_category_label', 'action_channel', 'action_label', 'client_id',\n",
       "       'client_is_present', 'client_is_invited'],\n",
       "      dtype='object')"
      ]
     },
     "execution_count": 2,
     "metadata": {},
     "output_type": "execute_result"
    }
   ],
   "source": [
    "actions = pd.read_excel('../OneDrive_1_2024-2-19/actions.xlsx')\n",
    "actions.columns"
   ]
  },
  {
   "cell_type": "code",
   "execution_count": 3,
   "metadata": {},
   "outputs": [],
   "source": [
    "client_response = actions[['client_id', 'client_is_invited', 'client_is_present']]"
   ]
  },
  {
   "cell_type": "code",
   "execution_count": 4,
   "metadata": {},
   "outputs": [],
   "source": [
    "client_response = client_response.groupby('client_id').agg({'client_is_invited': 'sum', 'client_is_present': 'sum'}).reset_index()"
   ]
  },
  {
   "cell_type": "code",
   "execution_count": 5,
   "metadata": {},
   "outputs": [],
   "source": [
    "client_response['response_rate'] = client_response['client_is_present'] / client_response['client_is_invited']"
   ]
  },
  {
   "cell_type": "code",
   "execution_count": 6,
   "metadata": {},
   "outputs": [
    {
     "data": {
      "text/plain": [
       "0.5437"
      ]
     },
     "execution_count": 6,
     "metadata": {},
     "output_type": "execute_result"
    }
   ],
   "source": [
    "global_response_rate = client_response['client_is_present'].sum() / client_response['client_is_invited'].sum()\n",
    "global_response_rate"
   ]
  },
  {
   "cell_type": "code",
   "execution_count": 7,
   "metadata": {},
   "outputs": [],
   "source": [
    "transactions = pd.read_excel('../OneDrive_1_2024-2-19/transactions.xlsx')\n",
    "client_ids = transactions['client_id'].unique()"
   ]
  },
  {
   "cell_type": "code",
   "execution_count": null,
   "metadata": {},
   "outputs": [],
   "source": [
    "client_response = pd.DataFrame(client_ids, columns=['client_id']).merge(client_response[['client_id', 'response_rate']], on='client_id', how='left')"
   ]
  },
  {
   "cell_type": "code",
   "execution_count": null,
   "metadata": {},
   "outputs": [],
   "source": [
    "client_response[[client_response['response_rate'].isnull()]] = global_response_rate"
   ]
  },
  {
   "cell_type": "code",
   "execution_count": null,
   "metadata": {},
   "outputs": [],
   "source": [
    "client_response.to_csv('../features/client_response_rate.csv', index=False)"
   ]
  }
 ],
 "metadata": {
  "kernelspec": {
   "display_name": "base",
   "language": "python",
   "name": "python3"
  },
  "language_info": {
   "codemirror_mode": {
    "name": "ipython",
    "version": 3
   },
   "file_extension": ".py",
   "mimetype": "text/x-python",
   "name": "python",
   "nbconvert_exporter": "python",
   "pygments_lexer": "ipython3",
   "version": "3.11.5"
  }
 },
 "nbformat": 4,
 "nbformat_minor": 2
}
