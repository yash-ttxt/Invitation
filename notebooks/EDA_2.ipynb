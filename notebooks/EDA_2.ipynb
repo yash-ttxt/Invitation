{
 "cells": [
  {
   "cell_type": "code",
   "execution_count": 1,
   "metadata": {},
   "outputs": [],
   "source": [
    "import pandas as pd\n",
    "import numpy as np\n",
    "import matplotlib.pyplot as plt\n",
    "import seaborn as sns"
   ]
  },
  {
   "cell_type": "code",
   "execution_count": 2,
   "metadata": {},
   "outputs": [],
   "source": [
    "transactions = pd.read_csv('./normalized/transactions.csv')\n",
    "actions = pd.read_csv('./normalized/actions_1.csv')\n",
    "events = pd.read_csv('./normalized/events.csv')\n",
    "product_info = pd.read_csv('./normalized/product_info.csv')"
   ]
  },
  {
   "cell_type": "code",
   "execution_count": 3,
   "metadata": {},
   "outputs": [],
   "source": [
    "transactions['transaction_date'] = pd.to_datetime(transactions['transaction_date'])\n",
    "actions['action_start_date'] = pd.to_datetime(actions['action_start_date'])\n",
    "actions['action_end_date'] = pd.to_datetime(actions['action_end_date'])"
   ]
  },
  {
   "cell_type": "code",
   "execution_count": 4,
   "metadata": {},
   "outputs": [],
   "source": [
    "transactions_actions = transactions.copy()"
   ]
  },
  {
   "cell_type": "code",
   "execution_count": 5,
   "metadata": {},
   "outputs": [],
   "source": [
    "transactions_actions['last_occurred_event_ids'] = None\n",
    "transactions_actions['was_invited'] = False\n",
    "transactions_actions['was_present'] = False\n",
    "transactions_actions['bought_at_event'] = str([])\n",
    "transactions_actions['days_after_invited_events'] = np.nan\n",
    "transactions_actions['last_invited_event_id'] = None\n",
    "transactions_actions['days_after_last_event'] = np.nan"
   ]
  },
  {
   "cell_type": "code",
   "execution_count": 6,
   "metadata": {},
   "outputs": [
    {
     "data": {
      "text/plain": [
       "Index(['action_universe', 'action_category_label', 'event_id', 'action_id',\n",
       "       'action_start_date', 'action_year', 'action_end_date',\n",
       "       'action_collection_year', 'client_id', 'client_is_present',\n",
       "       'client_is_invited'],\n",
       "      dtype='object')"
      ]
     },
     "execution_count": 6,
     "metadata": {},
     "output_type": "execute_result"
    }
   ],
   "source": [
    "actions.columns"
   ]
  },
  {
   "cell_type": "markdown",
   "metadata": {},
   "source": [
    "# Storing the event when the transaction is made and also the last event before the transaction is made."
   ]
  },
  {
   "cell_type": "code",
   "execution_count": 7,
   "metadata": {},
   "outputs": [],
   "source": [
    "# actions_marked_absent_but_transactions_present = []\n",
    "# for index, transaction in transactions.iterrows():\n",
    "#     possible_actions = actions[\n",
    "#         (actions['action_start_date'] <= transaction['transaction_date']) & \n",
    "#         (actions['action_end_date'] >= transaction['transaction_date']) & \n",
    "#         (actions['client_id'] == transaction['client_id']) & \n",
    "#         (actions['client_is_present'] == 0) &\n",
    "#         (actions['client_is_invited'] == 1)]\n",
    "#     if len(possible_actions) > 0:\n",
    "#         actions_marked_absent_but_transactions_present.append(possible_actions)"
   ]
  },
  {
   "cell_type": "code",
   "execution_count": 8,
   "metadata": {},
   "outputs": [],
   "source": [
    "# print(len(actions_marked_absent_but_transactions_present))"
   ]
  },
  {
   "cell_type": "code",
   "execution_count": 9,
   "metadata": {},
   "outputs": [],
   "source": [
    "# for row in actions_marked_absent_but_transactions_present:\n",
    "#     actions.loc[row.index, 'client_is_present'] = 1"
   ]
  },
  {
   "cell_type": "code",
   "execution_count": 10,
   "metadata": {},
   "outputs": [],
   "source": [
    "# actions.to_csv('./normalized/actions_1.csv', index=False)"
   ]
  },
  {
   "cell_type": "code",
   "execution_count": 11,
   "metadata": {},
   "outputs": [
    {
     "name": "stderr",
     "output_type": "stream",
     "text": [
      "/var/folders/jl/1kyt0fzd167dx2t_r6lh3tw00000gn/T/ipykernel_58982/3722215621.py:47: FutureWarning: Setting an item of incompatible dtype is deprecated and will raise an error in a future version of pandas. Value '-138 days +00:00:00' has dtype incompatible with float64, please explicitly cast to a compatible dtype first.\n",
      "  transactions_actions.at[index, 'days_after_invited_events'] = last_invited_event['action_end_date'].max() - transaction['transaction_date']\n"
     ]
    }
   ],
   "source": [
    "# for index, transaction in transactions_actions.iterrows():\n",
    "#     probable_events = actions[\n",
    "#         (actions['action_start_date'] <= transaction['transaction_date'])\n",
    "#     ].sort_values(by='action_end_date', ascending=False)\n",
    "\n",
    "#     if probable_events.shape[0] == 0:\n",
    "#         continue\n",
    "\n",
    "#     present_bought_invited_events = probable_events[\n",
    "#         (probable_events['action_end_date'] >= transaction['transaction_date']) & \n",
    "#         (probable_events['client_id'] == transaction['client_id']) & \n",
    "#         (probable_events['client_is_invited'] == 1) & \n",
    "#         (probable_events['client_is_present'] == 1)]\n",
    "    \n",
    "#     # Bought at the event where they were invited and present\n",
    "#     if present_bought_invited_events.shape[0] > 0:\n",
    "#         transactions_actions.at[index, 'last_occurred_event_id'] = present_bought_invited_events['action_id'].values[0]\n",
    "#         transactions_actions.at[index, 'was_invited'] = True\n",
    "#         transactions_actions.at[index, 'was_present'] = True\n",
    "#         transactions_actions.at[index, 'bought_at_event'] = str(present_bought_invited_events['action_id'].values)\n",
    "#         transactions_actions.at[index, 'days_after_invited_events'] = 0\n",
    "#         transactions_actions.at[index, 'last_invited_event_id'] = present_bought_invited_events['action_id'].values[0]\n",
    "#         transactions_actions.at[index, 'days_after_last_event'] = 0\n",
    "#         continue\n",
    "\n",
    "#     present_bought_events = probable_events[probable_events['action_end_date'] >= transaction['transaction_date']]\n",
    "\n",
    "#     check = present_bought_events[\n",
    "#         (present_bought_events['client_id'] == transaction['client_id']) & \n",
    "#         (present_bought_events['client_is_invited'] == 1)]\n",
    "\n",
    "#     if check.shape[0] > 0:\n",
    "#         print(\"WTF and how???\", transaction['transaction_id'])\n",
    "#         print(transaction)\n",
    "#         print(check)\n",
    "\n",
    "#     last_invited_event = probable_events[\n",
    "#         (probable_events['client_id'] == transaction['client_id']) & \n",
    "#         (probable_events['client_is_invited'] == 1)]\n",
    "    \n",
    "#     # Bought at the event where they were present but not invited\n",
    "#     if present_bought_events.shape[0] > 0:\n",
    "#         transactions_actions.at[index, 'last_occurred_event_id'] = present_bought_events['action_id'].values[0]\n",
    "#         transactions_actions.at[index, 'was_present'] = True\n",
    "#         transactions_actions.at[index, 'bought_at_event'] = str(present_bought_events['action_id'].values)\n",
    "#         if last_invited_event.shape[0] > 0:\n",
    "#             transactions_actions.at[index, 'days_after_invited_events'] = last_invited_event['action_end_date'].max() - transaction['transaction_date']\n",
    "#             transactions_actions.at[index, 'last_invited_event_id'] = last_invited_event['action_id'].values[0]\n",
    "#         continue\n",
    "\n",
    "#     bought_after_invited_events = probable_events[\n",
    "#         (probable_events['action_end_date'] >= transaction['transaction_date']) & \n",
    "#         (probable_events['client_id'] == transaction['client_id']) & \n",
    "#         (probable_events['client_is_invited'] == 1)]\n",
    "    \n",
    "#     # Bought after the event where they were invited\n",
    "#     if bought_after_invited_events.shape[0] > 0:\n",
    "#         transactions_actions.at[index, 'last_occurred_event_id'] = probable_events['action_id'].values[0]\n",
    "#         transactions_actions.at[index, 'was_invited'] = True if last_invited_event['action_id'].values[0] == bought_after_invited_events['action_id'].values[0] else False\n",
    "#         transactions_actions.at[index, 'days_after_invited_events'] = (transaction['transaction_date'] - bought_after_invited_events['action_end_date'].max()).days\n",
    "#         transactions_actions.at[index, 'last_invited_event_id'] = bought_after_invited_events['action_id'].values[0]\n",
    "#         continue\n",
    "\n",
    "#     # Bought after the last event\n",
    "#     transactions_actions.at[index, 'last_occurred_event_id'] = probable_events['action_id'].values[0]\n",
    "#     transactions_actions.at[index, 'days_after_last_event'] = (transaction['transaction_date'] - probable_events['action_end_date'].max()).days\n",
    "\n",
    "    "
   ]
  },
  {
   "cell_type": "code",
   "execution_count": null,
   "metadata": {},
   "outputs": [],
   "source": [
    "for index, transaction in transactions_actions.iterrows():\n",
    "    probable_events = actions[\n",
    "        (actions['action_start_date'] <= transaction['transaction_date'])\n",
    "    ].sort_values(by='action_end_date', ascending=False)\n",
    "\n",
    "    if probable_events.shape[0] == 0:\n",
    "        continue\n",
    "\n",
    "    last_occurred_event = probable_events[0]\n",
    "    days_after_last_event = (transaction['transaction_date'] - last_occurred_event['action_end_date']).days"
   ]
  },
  {
   "cell_type": "code",
   "execution_count": 13,
   "metadata": {},
   "outputs": [],
   "source": [
    "# rename action column to bought_at_action_id\n",
    "transactions_actions.to_csv('./normalized/transactions_actions.csv', index=False)"
   ]
  },
  {
   "cell_type": "code",
   "execution_count": 14,
   "metadata": {},
   "outputs": [
    {
     "data": {
      "text/plain": [
       "(54638, 15)"
      ]
     },
     "execution_count": 12,
     "metadata": {},
     "output_type": "execute_result"
    }
   ],
   "source": [
    "transactions_actions[transactions_actions['bought_at_event'] == str([])].shape"
   ]
  },
  {
   "cell_type": "code",
   "execution_count": null,
   "metadata": {},
   "outputs": [
    {
     "name": "stdout",
     "output_type": "stream",
     "text": [
      "54638 events when transaction was made at action\n"
     ]
    }
   ],
   "source": [
    "events_for_transactions = transactions_actions[transactions_actions['bought_at_action_id'] != 0]['bought_at_action_id'].copy()\n",
    "print(events_for_transactions.shape[0], 'events when transaction was made at action')"
   ]
  },
  {
   "cell_type": "code",
   "execution_count": null,
   "metadata": {},
   "outputs": [],
   "source": [
    "events_for_transactions.drop_duplicates(inplace=True)"
   ]
  },
  {
   "cell_type": "code",
   "execution_count": null,
   "metadata": {},
   "outputs": [
    {
     "name": "stdout",
     "output_type": "stream",
     "text": [
      "162 unique events for transactions with actions\n"
     ]
    }
   ],
   "source": [
    "print(events_for_transactions.shape[0], 'unique events for transactions with actions')"
   ]
  },
  {
   "cell_type": "code",
   "execution_count": null,
   "metadata": {},
   "outputs": [],
   "source": []
  }
 ],
 "metadata": {
  "kernelspec": {
   "display_name": "base",
   "language": "python",
   "name": "python3"
  },
  "language_info": {
   "codemirror_mode": {
    "name": "ipython",
    "version": 3
   },
   "file_extension": ".py",
   "mimetype": "text/x-python",
   "name": "python",
   "nbconvert_exporter": "python",
   "pygments_lexer": "ipython3",
   "version": "3.11.5"
  }
 },
 "nbformat": 4,
 "nbformat_minor": 2
}
