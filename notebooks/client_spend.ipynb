{
 "cells": [
  {
   "cell_type": "code",
   "execution_count": 1,
   "metadata": {},
   "outputs": [],
   "source": [
    "import pandas as pd\n",
    "import numpy as np"
   ]
  },
  {
   "cell_type": "code",
   "execution_count": 2,
   "metadata": {},
   "outputs": [],
   "source": [
    "transactions = pd.read_excel('../OneDrive_1_2024-2-19/transactions.xlsx')"
   ]
  },
  {
   "cell_type": "code",
   "execution_count": 3,
   "metadata": {},
   "outputs": [
    {
     "data": {
      "text/plain": [
       "Index(['client_id', 'transaction_id', 'transaction_date', 'product_quantity',\n",
       "       'gross_amount_euro', 'product_category', 'product_subcategory',\n",
       "       'product_style'],\n",
       "      dtype='object')"
      ]
     },
     "execution_count": 3,
     "metadata": {},
     "output_type": "execute_result"
    }
   ],
   "source": [
    "transactions.columns"
   ]
  },
  {
   "cell_type": "code",
   "execution_count": 4,
   "metadata": {},
   "outputs": [],
   "source": [
    "avg_expenditure = transactions.groupby('client_id').agg({'gross_amount_euro': 'mean'}).reset_index()"
   ]
  },
  {
   "cell_type": "code",
   "execution_count": 5,
   "metadata": {},
   "outputs": [
    {
     "data": {
      "text/plain": [
       "Index(['client_id', 'gross_amount_euro'], dtype='object')"
      ]
     },
     "execution_count": 5,
     "metadata": {},
     "output_type": "execute_result"
    }
   ],
   "source": [
    "avg_expenditure.columns"
   ]
  },
  {
   "cell_type": "code",
   "execution_count": 6,
   "metadata": {},
   "outputs": [],
   "source": [
    "avg_expenditure['avg_gross_amount_euro'] = avg_expenditure['gross_amount_euro']"
   ]
  },
  {
   "cell_type": "code",
   "execution_count": 7,
   "metadata": {},
   "outputs": [],
   "source": [
    "# normalize the gross_amount_euro column in 0 to 1 scale using something that makes sense\n",
    "avg_expenditure['gross_amount_euro'] = (avg_expenditure['gross_amount_euro'] - avg_expenditure['gross_amount_euro'].mean()) / avg_expenditure['gross_amount_euro'].std()\n",
    "avg_expenditure['gross_amount_euro'] = (avg_expenditure['gross_amount_euro'] - avg_expenditure['gross_amount_euro'].min()) / (avg_expenditure['gross_amount_euro'].max() - avg_expenditure['gross_amount_euro'].min())"
   ]
  },
  {
   "cell_type": "code",
   "execution_count": 8,
   "metadata": {},
   "outputs": [
    {
     "data": {
      "text/html": [
       "<div>\n",
       "<style scoped>\n",
       "    .dataframe tbody tr th:only-of-type {\n",
       "        vertical-align: middle;\n",
       "    }\n",
       "\n",
       "    .dataframe tbody tr th {\n",
       "        vertical-align: top;\n",
       "    }\n",
       "\n",
       "    .dataframe thead th {\n",
       "        text-align: right;\n",
       "    }\n",
       "</style>\n",
       "<table border=\"1\" class=\"dataframe\">\n",
       "  <thead>\n",
       "    <tr style=\"text-align: right;\">\n",
       "      <th></th>\n",
       "      <th>client_id</th>\n",
       "      <th>gross_amount_euro</th>\n",
       "      <th>avg_gross_amount_euro</th>\n",
       "    </tr>\n",
       "  </thead>\n",
       "  <tbody>\n",
       "    <tr>\n",
       "      <th>0</th>\n",
       "      <td>c00029531</td>\n",
       "      <td>0.023684</td>\n",
       "      <td>2227.000000</td>\n",
       "    </tr>\n",
       "    <tr>\n",
       "      <th>1</th>\n",
       "      <td>c00055636</td>\n",
       "      <td>0.015247</td>\n",
       "      <td>1449.000000</td>\n",
       "    </tr>\n",
       "    <tr>\n",
       "      <th>2</th>\n",
       "      <td>c00068475</td>\n",
       "      <td>0.018592</td>\n",
       "      <td>1757.500000</td>\n",
       "    </tr>\n",
       "    <tr>\n",
       "      <th>3</th>\n",
       "      <td>c00089184</td>\n",
       "      <td>0.066355</td>\n",
       "      <td>6162.000000</td>\n",
       "    </tr>\n",
       "    <tr>\n",
       "      <th>4</th>\n",
       "      <td>c00091299</td>\n",
       "      <td>0.004706</td>\n",
       "      <td>477.000000</td>\n",
       "    </tr>\n",
       "    <tr>\n",
       "      <th>...</th>\n",
       "      <td>...</td>\n",
       "      <td>...</td>\n",
       "      <td>...</td>\n",
       "    </tr>\n",
       "    <tr>\n",
       "      <th>13879</th>\n",
       "      <td>c99976540</td>\n",
       "      <td>0.022466</td>\n",
       "      <td>2114.714286</td>\n",
       "    </tr>\n",
       "    <tr>\n",
       "      <th>13880</th>\n",
       "      <td>c99978675</td>\n",
       "      <td>0.034061</td>\n",
       "      <td>3184.000000</td>\n",
       "    </tr>\n",
       "    <tr>\n",
       "      <th>13881</th>\n",
       "      <td>c99989096</td>\n",
       "      <td>0.010204</td>\n",
       "      <td>984.000000</td>\n",
       "    </tr>\n",
       "    <tr>\n",
       "      <th>13882</th>\n",
       "      <td>c99995560</td>\n",
       "      <td>0.042108</td>\n",
       "      <td>3926.000000</td>\n",
       "    </tr>\n",
       "    <tr>\n",
       "      <th>13883</th>\n",
       "      <td>c99997359</td>\n",
       "      <td>0.011083</td>\n",
       "      <td>1065.000000</td>\n",
       "    </tr>\n",
       "  </tbody>\n",
       "</table>\n",
       "<p>13884 rows × 3 columns</p>\n",
       "</div>"
      ],
      "text/plain": [
       "       client_id  gross_amount_euro  avg_gross_amount_euro\n",
       "0      c00029531           0.023684            2227.000000\n",
       "1      c00055636           0.015247            1449.000000\n",
       "2      c00068475           0.018592            1757.500000\n",
       "3      c00089184           0.066355            6162.000000\n",
       "4      c00091299           0.004706             477.000000\n",
       "...          ...                ...                    ...\n",
       "13879  c99976540           0.022466            2114.714286\n",
       "13880  c99978675           0.034061            3184.000000\n",
       "13881  c99989096           0.010204             984.000000\n",
       "13882  c99995560           0.042108            3926.000000\n",
       "13883  c99997359           0.011083            1065.000000\n",
       "\n",
       "[13884 rows x 3 columns]"
      ]
     },
     "execution_count": 8,
     "metadata": {},
     "output_type": "execute_result"
    }
   ],
   "source": [
    "avg_expenditure"
   ]
  },
  {
   "cell_type": "code",
   "execution_count": 9,
   "metadata": {},
   "outputs": [],
   "source": [
    "avg_expenditure.to_csv('../features/avg_expenditure.csv', index=False)"
   ]
  }
 ],
 "metadata": {
  "kernelspec": {
   "display_name": "base",
   "language": "python",
   "name": "python3"
  },
  "language_info": {
   "codemirror_mode": {
    "name": "ipython",
    "version": 3
   },
   "file_extension": ".py",
   "mimetype": "text/x-python",
   "name": "python",
   "nbconvert_exporter": "python",
   "pygments_lexer": "ipython3",
   "version": "3.11.5"
  }
 },
 "nbformat": 4,
 "nbformat_minor": 2
}
